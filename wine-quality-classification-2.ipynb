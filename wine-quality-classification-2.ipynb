{
 "cells": [
  {
   "cell_type": "markdown",
   "metadata": {},
   "source": [
    "<h2 style=\"text-align:center\">Wine Quality Classifier using Machine Learning</h2>"
   ]
  },
  {
   "cell_type": "markdown",
   "metadata": {},
   "source": [
    "**Data Link:** *https://www.kaggle.com/datasets/rajyellow46/wine-quality*"
   ]
  },
  {
   "cell_type": "code",
   "execution_count": 111,
   "metadata": {
    "execution": {
     "iopub.execute_input": "2022-05-17T06:21:52.952961Z",
     "iopub.status.busy": "2022-05-17T06:21:52.952596Z",
     "iopub.status.idle": "2022-05-17T06:22:00.618443Z",
     "shell.execute_reply": "2022-05-17T06:22:00.617595Z",
     "shell.execute_reply.started": "2022-05-17T06:21:52.952872Z"
    }
   },
   "outputs": [],
   "source": [
    "# Importing packages\n",
    "\n",
    "import pandas as pd\n",
    "import numpy as np\n",
    "import matplotlib.pyplot as plt\n",
    "import seaborn as sns\n",
    "\n",
    "from sklearn.preprocessing import StandardScaler\n",
    "\n",
    "from sklearn.model_selection import train_test_split\n",
    "from sklearn.linear_model import LogisticRegression\n",
    "from sklearn.neighbors import KNeighborsClassifier\n",
    "from sklearn.svm import SVC\n",
    "from sklearn.tree import DecisionTreeClassifier\n",
    "\n",
    "from sklearn.ensemble import RandomForestClassifier\n",
    "from sklearn.ensemble import VotingClassifier\n",
    "\n",
    "#import tensorflow as tf\n",
    "#from tensorflow.keras.regularizers import l2\n",
    "\n",
    "from sklearn.metrics import accuracy_score,confusion_matrix,classification_report, ConfusionMatrixDisplay"
   ]
  },
  {
   "cell_type": "code",
   "execution_count": 112,
   "metadata": {
    "execution": {
     "iopub.execute_input": "2022-05-17T06:22:00.620518Z",
     "iopub.status.busy": "2022-05-17T06:22:00.620187Z",
     "iopub.status.idle": "2022-05-17T06:22:00.624199Z",
     "shell.execute_reply": "2022-05-17T06:22:00.623458Z",
     "shell.execute_reply.started": "2022-05-17T06:22:00.620486Z"
    }
   },
   "outputs": [],
   "source": [
    "# Reading data from csv file\n",
    "\n",
    "#dataPath = \"Macintash HD/users/raziekaveh/desktop/wine-quality/winequalityN.csv\""
   ]
  },
  {
   "cell_type": "code",
   "execution_count": 113,
   "metadata": {
    "execution": {
     "iopub.execute_input": "2022-05-17T06:22:00.625894Z",
     "iopub.status.busy": "2022-05-17T06:22:00.625632Z",
     "iopub.status.idle": "2022-05-17T06:22:00.679333Z",
     "shell.execute_reply": "2022-05-17T06:22:00.678422Z",
     "shell.execute_reply.started": "2022-05-17T06:22:00.625864Z"
    }
   },
   "outputs": [],
   "source": [
    "data = pd.read_csv(r'winequalityN.csv')"
   ]
  },
  {
   "cell_type": "code",
   "execution_count": 120,
   "metadata": {
    "execution": {
     "iopub.execute_input": "2022-05-17T06:22:00.683230Z",
     "iopub.status.busy": "2022-05-17T06:22:00.682985Z",
     "iopub.status.idle": "2022-05-17T06:22:00.688112Z",
     "shell.execute_reply": "2022-05-17T06:22:00.687160Z",
     "shell.execute_reply.started": "2022-05-17T06:22:00.683204Z"
    }
   },
   "outputs": [],
   "source": [
    "df = data.copy()\n"
   ]
  },
  {
   "cell_type": "code",
   "execution_count": 121,
   "metadata": {},
   "outputs": [],
   "source": [
    "file = open(\"winequalityN.csv\", \"r\")\n",
    "\n",
    "data = pd.read_csv(file, sep = \",\")\n",
    "\n",
    "type = {'white': 1,'red': 0}\n",
    "\n",
    "data.type = [type[item] for item in data.type]"
   ]
  },
  {
   "cell_type": "code",
   "execution_count": 122,
   "metadata": {
    "execution": {
     "iopub.execute_input": "2022-05-17T06:22:00.689982Z",
     "iopub.status.busy": "2022-05-17T06:22:00.689653Z",
     "iopub.status.idle": "2022-05-17T06:22:00.725122Z",
     "shell.execute_reply": "2022-05-17T06:22:00.724280Z",
     "shell.execute_reply.started": "2022-05-17T06:22:00.689942Z"
    }
   },
   "outputs": [
    {
     "data": {
      "text/html": [
       "<div>\n",
       "<style scoped>\n",
       "    .dataframe tbody tr th:only-of-type {\n",
       "        vertical-align: middle;\n",
       "    }\n",
       "\n",
       "    .dataframe tbody tr th {\n",
       "        vertical-align: top;\n",
       "    }\n",
       "\n",
       "    .dataframe thead th {\n",
       "        text-align: right;\n",
       "    }\n",
       "</style>\n",
       "<table border=\"1\" class=\"dataframe\">\n",
       "  <thead>\n",
       "    <tr style=\"text-align: right;\">\n",
       "      <th></th>\n",
       "      <th>type</th>\n",
       "      <th>fixed acidity</th>\n",
       "      <th>volatile acidity</th>\n",
       "      <th>citric acid</th>\n",
       "      <th>residual sugar</th>\n",
       "      <th>chlorides</th>\n",
       "      <th>free sulfur dioxide</th>\n",
       "      <th>total sulfur dioxide</th>\n",
       "      <th>density</th>\n",
       "      <th>pH</th>\n",
       "      <th>sulphates</th>\n",
       "      <th>alcohol</th>\n",
       "      <th>quality</th>\n",
       "    </tr>\n",
       "  </thead>\n",
       "  <tbody>\n",
       "    <tr>\n",
       "      <th>0</th>\n",
       "      <td>1</td>\n",
       "      <td>7.0</td>\n",
       "      <td>0.27</td>\n",
       "      <td>0.36</td>\n",
       "      <td>20.7</td>\n",
       "      <td>0.045</td>\n",
       "      <td>45.0</td>\n",
       "      <td>170.0</td>\n",
       "      <td>1.0010</td>\n",
       "      <td>3.00</td>\n",
       "      <td>0.45</td>\n",
       "      <td>8.8</td>\n",
       "      <td>6</td>\n",
       "    </tr>\n",
       "    <tr>\n",
       "      <th>1</th>\n",
       "      <td>1</td>\n",
       "      <td>6.3</td>\n",
       "      <td>0.30</td>\n",
       "      <td>0.34</td>\n",
       "      <td>1.6</td>\n",
       "      <td>0.049</td>\n",
       "      <td>14.0</td>\n",
       "      <td>132.0</td>\n",
       "      <td>0.9940</td>\n",
       "      <td>3.30</td>\n",
       "      <td>0.49</td>\n",
       "      <td>9.5</td>\n",
       "      <td>6</td>\n",
       "    </tr>\n",
       "    <tr>\n",
       "      <th>2</th>\n",
       "      <td>1</td>\n",
       "      <td>8.1</td>\n",
       "      <td>0.28</td>\n",
       "      <td>0.40</td>\n",
       "      <td>6.9</td>\n",
       "      <td>0.050</td>\n",
       "      <td>30.0</td>\n",
       "      <td>97.0</td>\n",
       "      <td>0.9951</td>\n",
       "      <td>3.26</td>\n",
       "      <td>0.44</td>\n",
       "      <td>10.1</td>\n",
       "      <td>6</td>\n",
       "    </tr>\n",
       "    <tr>\n",
       "      <th>3</th>\n",
       "      <td>1</td>\n",
       "      <td>7.2</td>\n",
       "      <td>0.23</td>\n",
       "      <td>0.32</td>\n",
       "      <td>8.5</td>\n",
       "      <td>0.058</td>\n",
       "      <td>47.0</td>\n",
       "      <td>186.0</td>\n",
       "      <td>0.9956</td>\n",
       "      <td>3.19</td>\n",
       "      <td>0.40</td>\n",
       "      <td>9.9</td>\n",
       "      <td>6</td>\n",
       "    </tr>\n",
       "    <tr>\n",
       "      <th>4</th>\n",
       "      <td>1</td>\n",
       "      <td>7.2</td>\n",
       "      <td>0.23</td>\n",
       "      <td>0.32</td>\n",
       "      <td>8.5</td>\n",
       "      <td>0.058</td>\n",
       "      <td>47.0</td>\n",
       "      <td>186.0</td>\n",
       "      <td>0.9956</td>\n",
       "      <td>3.19</td>\n",
       "      <td>0.40</td>\n",
       "      <td>9.9</td>\n",
       "      <td>6</td>\n",
       "    </tr>\n",
       "  </tbody>\n",
       "</table>\n",
       "</div>"
      ],
      "text/plain": [
       "   type  fixed acidity  volatile acidity  citric acid  residual sugar  \\\n",
       "0     1            7.0              0.27         0.36            20.7   \n",
       "1     1            6.3              0.30         0.34             1.6   \n",
       "2     1            8.1              0.28         0.40             6.9   \n",
       "3     1            7.2              0.23         0.32             8.5   \n",
       "4     1            7.2              0.23         0.32             8.5   \n",
       "\n",
       "   chlorides  free sulfur dioxide  total sulfur dioxide  density    pH  \\\n",
       "0      0.045                 45.0                 170.0   1.0010  3.00   \n",
       "1      0.049                 14.0                 132.0   0.9940  3.30   \n",
       "2      0.050                 30.0                  97.0   0.9951  3.26   \n",
       "3      0.058                 47.0                 186.0   0.9956  3.19   \n",
       "4      0.058                 47.0                 186.0   0.9956  3.19   \n",
       "\n",
       "   sulphates  alcohol  quality  \n",
       "0       0.45      8.8        6  \n",
       "1       0.49      9.5        6  \n",
       "2       0.44     10.1        6  \n",
       "3       0.40      9.9        6  \n",
       "4       0.40      9.9        6  "
      ]
     },
     "execution_count": 122,
     "metadata": {},
     "output_type": "execute_result"
    }
   ],
   "source": [
    "# Viewing the data\n",
    "\n",
    "df.head()\n"
   ]
  },
  {
   "cell_type": "code",
   "execution_count": 123,
   "metadata": {
    "execution": {
     "iopub.execute_input": "2022-05-17T06:22:00.727165Z",
     "iopub.status.busy": "2022-05-17T06:22:00.726693Z",
     "iopub.status.idle": "2022-05-17T06:22:00.733623Z",
     "shell.execute_reply": "2022-05-17T06:22:00.732772Z",
     "shell.execute_reply.started": "2022-05-17T06:22:00.727120Z"
    }
   },
   "outputs": [
    {
     "data": {
      "text/plain": [
       "(6497, 13)"
      ]
     },
     "execution_count": 123,
     "metadata": {},
     "output_type": "execute_result"
    }
   ],
   "source": [
    "df.shape\n",
    "\n",
    "# The dataset contains 6497 rows and 13 columns - with 1 dependent target feature"
   ]
  },
  {
   "cell_type": "code",
   "execution_count": 124,
   "metadata": {
    "execution": {
     "iopub.execute_input": "2022-05-17T06:22:00.735660Z",
     "iopub.status.busy": "2022-05-17T06:22:00.735062Z",
     "iopub.status.idle": "2022-05-17T06:22:00.750914Z",
     "shell.execute_reply": "2022-05-17T06:22:00.749545Z",
     "shell.execute_reply.started": "2022-05-17T06:22:00.735613Z"
    }
   },
   "outputs": [
    {
     "data": {
      "text/plain": [
       "type                     0\n",
       "fixed acidity           10\n",
       "volatile acidity         8\n",
       "citric acid              3\n",
       "residual sugar           2\n",
       "chlorides                2\n",
       "free sulfur dioxide      0\n",
       "total sulfur dioxide     0\n",
       "density                  0\n",
       "pH                       9\n",
       "sulphates                4\n",
       "alcohol                  0\n",
       "quality                  0\n",
       "dtype: int64"
      ]
     },
     "execution_count": 124,
     "metadata": {},
     "output_type": "execute_result"
    }
   ],
   "source": [
    "df.isna().sum()"
   ]
  },
  {
   "cell_type": "code",
   "execution_count": 125,
   "metadata": {
    "execution": {
     "iopub.execute_input": "2022-05-17T06:22:00.752656Z",
     "iopub.status.busy": "2022-05-17T06:22:00.752309Z",
     "iopub.status.idle": "2022-05-17T06:22:00.768599Z",
     "shell.execute_reply": "2022-05-17T06:22:00.767938Z",
     "shell.execute_reply.started": "2022-05-17T06:22:00.752611Z"
    }
   },
   "outputs": [],
   "source": [
    "# The dataset has null values, they have to be cleaned\n",
    "\n",
    "df.dropna(inplace=True)"
   ]
  },
  {
   "cell_type": "code",
   "execution_count": 126,
   "metadata": {
    "execution": {
     "iopub.execute_input": "2022-05-17T06:22:00.770889Z",
     "iopub.status.busy": "2022-05-17T06:22:00.770662Z",
     "iopub.status.idle": "2022-05-17T06:22:00.779448Z",
     "shell.execute_reply": "2022-05-17T06:22:00.778772Z",
     "shell.execute_reply.started": "2022-05-17T06:22:00.770862Z"
    }
   },
   "outputs": [
    {
     "data": {
      "text/plain": [
       "type                    0\n",
       "fixed acidity           0\n",
       "volatile acidity        0\n",
       "citric acid             0\n",
       "residual sugar          0\n",
       "chlorides               0\n",
       "free sulfur dioxide     0\n",
       "total sulfur dioxide    0\n",
       "density                 0\n",
       "pH                      0\n",
       "sulphates               0\n",
       "alcohol                 0\n",
       "quality                 0\n",
       "dtype: int64"
      ]
     },
     "execution_count": 126,
     "metadata": {},
     "output_type": "execute_result"
    }
   ],
   "source": [
    "df.isna().sum()\n",
    "\n",
    "# The dataset is clean and free from null values"
   ]
  },
  {
   "cell_type": "code",
   "execution_count": 127,
   "metadata": {
    "execution": {
     "iopub.execute_input": "2022-05-17T06:22:00.782743Z",
     "iopub.status.busy": "2022-05-17T06:22:00.782301Z",
     "iopub.status.idle": "2022-05-17T06:22:00.793998Z",
     "shell.execute_reply": "2022-05-17T06:22:00.793011Z",
     "shell.execute_reply.started": "2022-05-17T06:22:00.782694Z"
    },
    "scrolled": true
   },
   "outputs": [],
   "source": [
    "df.head()\n",
    "df.rename(columns = {'fixed acidity':'fixed_acidity', 'volatile acidity':'volatile_acidity',\n",
    "                     'citric acid':'citric_acid', 'residual sugar':'residual_sugar', 'chlorides':'chlorides',\n",
    "                     'free sulfur dioxide':'free_sulfur_dioxide',\n",
    "                     'total sulfur dioxide':'total_sulfur_dioxide'}, inplace = True)"
   ]
  },
  {
   "cell_type": "code",
   "execution_count": 128,
   "metadata": {
    "execution": {
     "iopub.execute_input": "2022-05-17T06:22:00.796356Z",
     "iopub.status.busy": "2022-05-17T06:22:00.795496Z",
     "iopub.status.idle": "2022-05-17T06:22:00.808028Z",
     "shell.execute_reply": "2022-05-17T06:22:00.806936Z",
     "shell.execute_reply.started": "2022-05-17T06:22:00.796304Z"
    }
   },
   "outputs": [],
   "source": [
    "df['type'] = df['type'].astype(\"category\").cat.codes\n",
    "\n",
    "# Now the preprocessing works are done and the dataset is ready to be analysed"
   ]
  },
  {
   "cell_type": "code",
   "execution_count": 129,
   "metadata": {
    "execution": {
     "iopub.execute_input": "2022-05-17T06:22:00.809941Z",
     "iopub.status.busy": "2022-05-17T06:22:00.809409Z",
     "iopub.status.idle": "2022-05-17T06:22:00.835501Z",
     "shell.execute_reply": "2022-05-17T06:22:00.834565Z",
     "shell.execute_reply.started": "2022-05-17T06:22:00.809894Z"
    }
   },
   "outputs": [
    {
     "data": {
      "text/html": [
       "<div>\n",
       "<style scoped>\n",
       "    .dataframe tbody tr th:only-of-type {\n",
       "        vertical-align: middle;\n",
       "    }\n",
       "\n",
       "    .dataframe tbody tr th {\n",
       "        vertical-align: top;\n",
       "    }\n",
       "\n",
       "    .dataframe thead th {\n",
       "        text-align: right;\n",
       "    }\n",
       "</style>\n",
       "<table border=\"1\" class=\"dataframe\">\n",
       "  <thead>\n",
       "    <tr style=\"text-align: right;\">\n",
       "      <th></th>\n",
       "      <th>type</th>\n",
       "      <th>fixed_acidity</th>\n",
       "      <th>volatile_acidity</th>\n",
       "      <th>citric_acid</th>\n",
       "      <th>residual_sugar</th>\n",
       "      <th>chlorides</th>\n",
       "      <th>free_sulfur_dioxide</th>\n",
       "      <th>total_sulfur_dioxide</th>\n",
       "      <th>density</th>\n",
       "      <th>pH</th>\n",
       "      <th>sulphates</th>\n",
       "      <th>alcohol</th>\n",
       "      <th>quality</th>\n",
       "    </tr>\n",
       "  </thead>\n",
       "  <tbody>\n",
       "    <tr>\n",
       "      <th>0</th>\n",
       "      <td>1</td>\n",
       "      <td>7.0</td>\n",
       "      <td>0.27</td>\n",
       "      <td>0.36</td>\n",
       "      <td>20.7</td>\n",
       "      <td>0.045</td>\n",
       "      <td>45.0</td>\n",
       "      <td>170.0</td>\n",
       "      <td>1.0010</td>\n",
       "      <td>3.00</td>\n",
       "      <td>0.45</td>\n",
       "      <td>8.8</td>\n",
       "      <td>6</td>\n",
       "    </tr>\n",
       "    <tr>\n",
       "      <th>1</th>\n",
       "      <td>1</td>\n",
       "      <td>6.3</td>\n",
       "      <td>0.30</td>\n",
       "      <td>0.34</td>\n",
       "      <td>1.6</td>\n",
       "      <td>0.049</td>\n",
       "      <td>14.0</td>\n",
       "      <td>132.0</td>\n",
       "      <td>0.9940</td>\n",
       "      <td>3.30</td>\n",
       "      <td>0.49</td>\n",
       "      <td>9.5</td>\n",
       "      <td>6</td>\n",
       "    </tr>\n",
       "    <tr>\n",
       "      <th>2</th>\n",
       "      <td>1</td>\n",
       "      <td>8.1</td>\n",
       "      <td>0.28</td>\n",
       "      <td>0.40</td>\n",
       "      <td>6.9</td>\n",
       "      <td>0.050</td>\n",
       "      <td>30.0</td>\n",
       "      <td>97.0</td>\n",
       "      <td>0.9951</td>\n",
       "      <td>3.26</td>\n",
       "      <td>0.44</td>\n",
       "      <td>10.1</td>\n",
       "      <td>6</td>\n",
       "    </tr>\n",
       "    <tr>\n",
       "      <th>3</th>\n",
       "      <td>1</td>\n",
       "      <td>7.2</td>\n",
       "      <td>0.23</td>\n",
       "      <td>0.32</td>\n",
       "      <td>8.5</td>\n",
       "      <td>0.058</td>\n",
       "      <td>47.0</td>\n",
       "      <td>186.0</td>\n",
       "      <td>0.9956</td>\n",
       "      <td>3.19</td>\n",
       "      <td>0.40</td>\n",
       "      <td>9.9</td>\n",
       "      <td>6</td>\n",
       "    </tr>\n",
       "    <tr>\n",
       "      <th>4</th>\n",
       "      <td>1</td>\n",
       "      <td>7.2</td>\n",
       "      <td>0.23</td>\n",
       "      <td>0.32</td>\n",
       "      <td>8.5</td>\n",
       "      <td>0.058</td>\n",
       "      <td>47.0</td>\n",
       "      <td>186.0</td>\n",
       "      <td>0.9956</td>\n",
       "      <td>3.19</td>\n",
       "      <td>0.40</td>\n",
       "      <td>9.9</td>\n",
       "      <td>6</td>\n",
       "    </tr>\n",
       "  </tbody>\n",
       "</table>\n",
       "</div>"
      ],
      "text/plain": [
       "   type  fixed_acidity  volatile_acidity  citric_acid  residual_sugar  \\\n",
       "0     1            7.0              0.27         0.36            20.7   \n",
       "1     1            6.3              0.30         0.34             1.6   \n",
       "2     1            8.1              0.28         0.40             6.9   \n",
       "3     1            7.2              0.23         0.32             8.5   \n",
       "4     1            7.2              0.23         0.32             8.5   \n",
       "\n",
       "   chlorides  free_sulfur_dioxide  total_sulfur_dioxide  density    pH  \\\n",
       "0      0.045                 45.0                 170.0   1.0010  3.00   \n",
       "1      0.049                 14.0                 132.0   0.9940  3.30   \n",
       "2      0.050                 30.0                  97.0   0.9951  3.26   \n",
       "3      0.058                 47.0                 186.0   0.9956  3.19   \n",
       "4      0.058                 47.0                 186.0   0.9956  3.19   \n",
       "\n",
       "   sulphates  alcohol  quality  \n",
       "0       0.45      8.8        6  \n",
       "1       0.49      9.5        6  \n",
       "2       0.44     10.1        6  \n",
       "3       0.40      9.9        6  \n",
       "4       0.40      9.9        6  "
      ]
     },
     "execution_count": 129,
     "metadata": {},
     "output_type": "execute_result"
    }
   ],
   "source": [
    "df.head()"
   ]
  },
  {
   "cell_type": "code",
   "execution_count": 130,
   "metadata": {
    "execution": {
     "iopub.execute_input": "2022-05-17T06:22:00.836969Z",
     "iopub.status.busy": "2022-05-17T06:22:00.836735Z",
     "iopub.status.idle": "2022-05-17T06:22:00.897861Z",
     "shell.execute_reply": "2022-05-17T06:22:00.897109Z",
     "shell.execute_reply.started": "2022-05-17T06:22:00.836942Z"
    }
   },
   "outputs": [
    {
     "data": {
      "text/html": [
       "<div>\n",
       "<style scoped>\n",
       "    .dataframe tbody tr th:only-of-type {\n",
       "        vertical-align: middle;\n",
       "    }\n",
       "\n",
       "    .dataframe tbody tr th {\n",
       "        vertical-align: top;\n",
       "    }\n",
       "\n",
       "    .dataframe thead th {\n",
       "        text-align: right;\n",
       "    }\n",
       "</style>\n",
       "<table border=\"1\" class=\"dataframe\">\n",
       "  <thead>\n",
       "    <tr style=\"text-align: right;\">\n",
       "      <th></th>\n",
       "      <th>type</th>\n",
       "      <th>fixed_acidity</th>\n",
       "      <th>volatile_acidity</th>\n",
       "      <th>citric_acid</th>\n",
       "      <th>residual_sugar</th>\n",
       "      <th>chlorides</th>\n",
       "      <th>free_sulfur_dioxide</th>\n",
       "      <th>total_sulfur_dioxide</th>\n",
       "      <th>density</th>\n",
       "      <th>pH</th>\n",
       "      <th>sulphates</th>\n",
       "      <th>alcohol</th>\n",
       "      <th>quality</th>\n",
       "    </tr>\n",
       "  </thead>\n",
       "  <tbody>\n",
       "    <tr>\n",
       "      <th>count</th>\n",
       "      <td>6463.000000</td>\n",
       "      <td>6463.000000</td>\n",
       "      <td>6463.000000</td>\n",
       "      <td>6463.000000</td>\n",
       "      <td>6463.000000</td>\n",
       "      <td>6463.000000</td>\n",
       "      <td>6463.000000</td>\n",
       "      <td>6463.000000</td>\n",
       "      <td>6463.000000</td>\n",
       "      <td>6463.000000</td>\n",
       "      <td>6463.000000</td>\n",
       "      <td>6463.000000</td>\n",
       "      <td>6463.000000</td>\n",
       "    </tr>\n",
       "    <tr>\n",
       "      <th>mean</th>\n",
       "      <td>0.753520</td>\n",
       "      <td>7.217755</td>\n",
       "      <td>0.339589</td>\n",
       "      <td>0.318758</td>\n",
       "      <td>5.443958</td>\n",
       "      <td>0.056056</td>\n",
       "      <td>30.516865</td>\n",
       "      <td>115.694492</td>\n",
       "      <td>0.994698</td>\n",
       "      <td>3.218332</td>\n",
       "      <td>0.531150</td>\n",
       "      <td>10.492825</td>\n",
       "      <td>5.818505</td>\n",
       "    </tr>\n",
       "    <tr>\n",
       "      <th>std</th>\n",
       "      <td>0.430995</td>\n",
       "      <td>1.297913</td>\n",
       "      <td>0.164639</td>\n",
       "      <td>0.145252</td>\n",
       "      <td>4.756852</td>\n",
       "      <td>0.035076</td>\n",
       "      <td>17.758815</td>\n",
       "      <td>56.526736</td>\n",
       "      <td>0.003001</td>\n",
       "      <td>0.160650</td>\n",
       "      <td>0.148913</td>\n",
       "      <td>1.193128</td>\n",
       "      <td>0.873286</td>\n",
       "    </tr>\n",
       "    <tr>\n",
       "      <th>min</th>\n",
       "      <td>0.000000</td>\n",
       "      <td>3.800000</td>\n",
       "      <td>0.080000</td>\n",
       "      <td>0.000000</td>\n",
       "      <td>0.600000</td>\n",
       "      <td>0.009000</td>\n",
       "      <td>1.000000</td>\n",
       "      <td>6.000000</td>\n",
       "      <td>0.987110</td>\n",
       "      <td>2.720000</td>\n",
       "      <td>0.220000</td>\n",
       "      <td>8.000000</td>\n",
       "      <td>3.000000</td>\n",
       "    </tr>\n",
       "    <tr>\n",
       "      <th>25%</th>\n",
       "      <td>1.000000</td>\n",
       "      <td>6.400000</td>\n",
       "      <td>0.230000</td>\n",
       "      <td>0.250000</td>\n",
       "      <td>1.800000</td>\n",
       "      <td>0.038000</td>\n",
       "      <td>17.000000</td>\n",
       "      <td>77.000000</td>\n",
       "      <td>0.992330</td>\n",
       "      <td>3.110000</td>\n",
       "      <td>0.430000</td>\n",
       "      <td>9.500000</td>\n",
       "      <td>5.000000</td>\n",
       "    </tr>\n",
       "    <tr>\n",
       "      <th>50%</th>\n",
       "      <td>1.000000</td>\n",
       "      <td>7.000000</td>\n",
       "      <td>0.290000</td>\n",
       "      <td>0.310000</td>\n",
       "      <td>3.000000</td>\n",
       "      <td>0.047000</td>\n",
       "      <td>29.000000</td>\n",
       "      <td>118.000000</td>\n",
       "      <td>0.994890</td>\n",
       "      <td>3.210000</td>\n",
       "      <td>0.510000</td>\n",
       "      <td>10.300000</td>\n",
       "      <td>6.000000</td>\n",
       "    </tr>\n",
       "    <tr>\n",
       "      <th>75%</th>\n",
       "      <td>1.000000</td>\n",
       "      <td>7.700000</td>\n",
       "      <td>0.400000</td>\n",
       "      <td>0.390000</td>\n",
       "      <td>8.100000</td>\n",
       "      <td>0.065000</td>\n",
       "      <td>41.000000</td>\n",
       "      <td>156.000000</td>\n",
       "      <td>0.997000</td>\n",
       "      <td>3.320000</td>\n",
       "      <td>0.600000</td>\n",
       "      <td>11.300000</td>\n",
       "      <td>6.000000</td>\n",
       "    </tr>\n",
       "    <tr>\n",
       "      <th>max</th>\n",
       "      <td>1.000000</td>\n",
       "      <td>15.900000</td>\n",
       "      <td>1.580000</td>\n",
       "      <td>1.660000</td>\n",
       "      <td>65.800000</td>\n",
       "      <td>0.611000</td>\n",
       "      <td>289.000000</td>\n",
       "      <td>440.000000</td>\n",
       "      <td>1.038980</td>\n",
       "      <td>4.010000</td>\n",
       "      <td>2.000000</td>\n",
       "      <td>14.900000</td>\n",
       "      <td>9.000000</td>\n",
       "    </tr>\n",
       "  </tbody>\n",
       "</table>\n",
       "</div>"
      ],
      "text/plain": [
       "              type  fixed_acidity  volatile_acidity  citric_acid  \\\n",
       "count  6463.000000    6463.000000       6463.000000  6463.000000   \n",
       "mean      0.753520       7.217755          0.339589     0.318758   \n",
       "std       0.430995       1.297913          0.164639     0.145252   \n",
       "min       0.000000       3.800000          0.080000     0.000000   \n",
       "25%       1.000000       6.400000          0.230000     0.250000   \n",
       "50%       1.000000       7.000000          0.290000     0.310000   \n",
       "75%       1.000000       7.700000          0.400000     0.390000   \n",
       "max       1.000000      15.900000          1.580000     1.660000   \n",
       "\n",
       "       residual_sugar    chlorides  free_sulfur_dioxide  total_sulfur_dioxide  \\\n",
       "count     6463.000000  6463.000000          6463.000000           6463.000000   \n",
       "mean         5.443958     0.056056            30.516865            115.694492   \n",
       "std          4.756852     0.035076            17.758815             56.526736   \n",
       "min          0.600000     0.009000             1.000000              6.000000   \n",
       "25%          1.800000     0.038000            17.000000             77.000000   \n",
       "50%          3.000000     0.047000            29.000000            118.000000   \n",
       "75%          8.100000     0.065000            41.000000            156.000000   \n",
       "max         65.800000     0.611000           289.000000            440.000000   \n",
       "\n",
       "           density           pH    sulphates      alcohol      quality  \n",
       "count  6463.000000  6463.000000  6463.000000  6463.000000  6463.000000  \n",
       "mean      0.994698     3.218332     0.531150    10.492825     5.818505  \n",
       "std       0.003001     0.160650     0.148913     1.193128     0.873286  \n",
       "min       0.987110     2.720000     0.220000     8.000000     3.000000  \n",
       "25%       0.992330     3.110000     0.430000     9.500000     5.000000  \n",
       "50%       0.994890     3.210000     0.510000    10.300000     6.000000  \n",
       "75%       0.997000     3.320000     0.600000    11.300000     6.000000  \n",
       "max       1.038980     4.010000     2.000000    14.900000     9.000000  "
      ]
     },
     "execution_count": 130,
     "metadata": {},
     "output_type": "execute_result"
    }
   ],
   "source": [
    "# Descriptive Statistics of the Features\n",
    "\n",
    "df.describe()"
   ]
  },
  {
   "cell_type": "code",
   "execution_count": 131,
   "metadata": {
    "execution": {
     "iopub.execute_input": "2022-05-17T06:22:00.901804Z",
     "iopub.status.busy": "2022-05-17T06:22:00.901254Z",
     "iopub.status.idle": "2022-05-17T06:22:00.907428Z",
     "shell.execute_reply": "2022-05-17T06:22:00.906819Z",
     "shell.execute_reply.started": "2022-05-17T06:22:00.901755Z"
    }
   },
   "outputs": [],
   "source": [
    "# Splitting the features and target as X and y respectively\n",
    "\n",
    "X = df.drop(\"type\",axis=1)\n",
    "y = df['type']"
   ]
  },
  {
   "cell_type": "code",
   "execution_count": 59,
   "metadata": {
    "execution": {
     "iopub.execute_input": "2022-05-17T06:22:00.909106Z",
     "iopub.status.busy": "2022-05-17T06:22:00.908322Z",
     "iopub.status.idle": "2022-05-17T06:22:00.920381Z",
     "shell.execute_reply": "2022-05-17T06:22:00.919668Z",
     "shell.execute_reply.started": "2022-05-17T06:22:00.909038Z"
    }
   },
   "outputs": [],
   "source": [
    "# Checking for outliers in the data and removing if any\n",
    "\n",
    "def remove_outlier(df, col_name):\n",
    "    plt.figure(figsize=(20,20))\n",
    "    f, axes = plt.subplots(1, 2,figsize=(12,4))\n",
    "    sns.boxplot(data = df,x = col_name, ax=axes[0], color='skyblue').set_title(\"Before Outlier Removal: \"+col_name)\n",
    "    Q1 = df[col_name].quantile(0.25)\n",
    "    Q3 = df[col_name].quantile(0.75)\n",
    "    IQR = Q3-Q1\n",
    "    df[col_name] = df[col_name].apply(lambda x : Q1-1.5*IQR if x < (Q1-1.5*IQR) else (Q3+1.5*IQR if x>(Q3+1.5*IQR) else x))\n",
    "    sns.boxplot(data = df, x = col_name, ax=axes[1], color='pink').set_title(\"After Outlier Removal: \"+col_name)\n",
    "    plt.show()\n",
    "    return df"
   ]
  },
  {
   "cell_type": "code",
   "execution_count": 60,
   "metadata": {
    "execution": {
     "iopub.execute_input": "2022-05-17T06:22:00.922573Z",
     "iopub.status.busy": "2022-05-17T06:22:00.921942Z",
     "iopub.status.idle": "2022-05-17T06:22:04.316338Z",
     "shell.execute_reply": "2022-05-17T06:22:04.315434Z",
     "shell.execute_reply.started": "2022-05-17T06:22:00.922532Z"
    }
   },
   "outputs": [
    {
     "data": {
      "text/plain": [
       "<Figure size 1440x1440 with 0 Axes>"
      ]
     },
     "metadata": {},
     "output_type": "display_data"
    },
    {
     "data": {
      "image/png": "[encoded data removed]",
      "text/plain": [
       "<Figure size 864x288 with 2 Axes>"
      ]
     },
     "metadata": {
      "needs_background": "light"
     },
     "output_type": "display_data"
    },
    {
     "data": {
      "text/plain": [
       "<Figure size 1440x1440 with 0 Axes>"
      ]
     },
     "metadata": {},
     "output_type": "display_data"
    },
    {
     "data": {
      "image/png": "[encoded data removed]",
      "text/plain": [
       "<Figure size 864x288 with 2 Axes>"
      ]
     },
     "metadata": {
      "needs_background": "light"
     },
     "output_type": "display_data"
    },
    {
     "data": {
      "text/plain": [
       "<Figure size 1440x1440 with 0 Axes>"
      ]
     },
     "metadata": {},
     "output_type": "display_data"
    },
    {
     "data": {
      "image/png": "[encoded data removed]",
      "text/plain": [
       "<Figure size 864x288 with 2 Axes>"
      ]
     },
     "metadata": {
      "needs_background": "light"
     },
     "output_type": "display_data"
    },
    {
     "data": {
      "text/plain": [
       "<Figure size 1440x1440 with 0 Axes>"
      ]
     },
     "metadata": {},
     "output_type": "display_data"
    },
    {
     "data": {
      "image/png": "[encoded data removed]",
      "text/plain": [
       "<Figure size 864x288 with 2 Axes>"
      ]
     },
     "metadata": {
      "needs_background": "light"
     },
     "output_type": "display_data"
    },
    {
     "data": {
      "text/plain": [
       "<Figure size 1440x1440 with 0 Axes>"
      ]
     },
     "metadata": {},
     "output_type": "display_data"
    },
    {
     "data": {
      "image/png": "[encoded data removed]",
      "text/plain": [
       "<Figure size 864x288 with 2 Axes>"
      ]
     },
     "metadata": {
      "needs_background": "light"
     },
     "output_type": "display_data"
    },
    {
     "data": {
      "text/plain": [
       "<Figure size 1440x1440 with 0 Axes>"
      ]
     },
     "metadata": {},
     "output_type": "display_data"
    },
    {
     "data": {
      "image/png": "[encoded data removed]",
      "text/plain": [
       "<Figure size 864x288 with 2 Axes>"
      ]
     },
     "metadata": {
      "needs_background": "light"
     },
     "output_type": "display_data"
    },
    {
     "data": {
      "text/plain": [
       "<Figure size 1440x1440 with 0 Axes>"
      ]
     },
     "metadata": {},
     "output_type": "display_data"
    },
    {
     "data": {
      "image/png": "[encoded data removed]",
      "text/plain": [
       "<Figure size 864x288 with 2 Axes>"
      ]
     },
     "metadata": {
      "needs_background": "light"
     },
     "output_type": "display_data"
    },
    {
     "data": {
      "text/plain": [
       "<Figure size 1440x1440 with 0 Axes>"
      ]
     },
     "metadata": {},
     "output_type": "display_data"
    },
    {
     "data": {
      "image/png": "[encoded data removed]",
      "text/plain": [
       "<Figure size 864x288 with 2 Axes>"
      ]
     },
     "metadata": {
      "needs_background": "light"
     },
     "output_type": "display_data"
    },
    {
     "data": {
      "text/plain": [
       "<Figure size 1440x1440 with 0 Axes>"
      ]
     },
     "metadata": {},
     "output_type": "display_data"
    },
    {
     "data": {
      "image/png": "[encoded data removed]",
      "text/plain": [
       "<Figure size 864x288 with 2 Axes>"
      ]
     },
     "metadata": {
      "needs_background": "light"
     },
     "output_type": "display_data"
    },
    {
     "data": {
      "text/plain": [
       "<Figure size 1440x1440 with 0 Axes>"
      ]
     },
     "metadata": {},
     "output_type": "display_data"
    },
    {
     "data": {
      "image/png": "[encoded data removed]",
      "text/plain": [
       "<Figure size 864x288 with 2 Axes>"
      ]
     },
     "metadata": {
      "needs_background": "light"
     },
     "output_type": "display_data"
    },
    {
     "data": {
      "text/plain": [
       "<Figure size 1440x1440 with 0 Axes>"
      ]
     },
     "metadata": {},
     "output_type": "display_data"
    },
    {
     "data": {
      "image/png": "[encoded data removed]",
      "text/plain": [
       "<Figure size 864x288 with 2 Axes>"
      ]
     },
     "metadata": {
      "needs_background": "light"
     },
     "output_type": "display_data"
    },
    {
     "data": {
      "text/plain": [
       "<Figure size 1440x1440 with 0 Axes>"
      ]
     },
     "metadata": {},
     "output_type": "display_data"
    },
    {
     "data": {
      "image/png": "[encoded data removed]",
      "text/plain": [
       "<Figure size 864x288 with 2 Axes>"
      ]
     },
     "metadata": {
      "needs_background": "light"
     },
     "output_type": "display_data"
    }
   ],
   "source": [
    "for col in X.columns:\n",
    "    df = remove_outlier(df,col)\n",
    "plt.show()"
   ]
  },
  {
   "cell_type": "code",
   "execution_count": 17,
   "metadata": {
    "execution": {
     "iopub.execute_input": "2022-05-17T06:22:04.317699Z",
     "iopub.status.busy": "2022-05-17T06:22:04.317475Z",
     "iopub.status.idle": "2022-05-17T06:22:07.072431Z",
     "shell.execute_reply": "2022-05-17T06:22:07.071789Z",
     "shell.execute_reply.started": "2022-05-17T06:22:04.317672Z"
    }
   },
   "outputs": [
    {
     "data": {
      "image/png": "[encoded data removed]",
      "text/plain": [
       "<Figure size 1440x936 with 12 Axes>"
      ]
     },
     "metadata": {
      "needs_background": "light"
     },
     "output_type": "display_data"
    }
   ],
   "source": [
    "# Checking the distribution of values in the feature variables\n",
    "\n",
    "fig, axes = plt.subplots(4, 3, figsize=(20,13))\n",
    "fig.suptitle('Independent Features'.upper(), fontsize=20)\n",
    "feat = X.columns\n",
    "f = 0\n",
    "for i in range(4):\n",
    "    for j in range(3):\n",
    "        sns.histplot(data = df,x= feat[f],ax=axes[i,j],color=\"skyblue\")\n",
    "        axes[i,j].set_title(feat[f].upper(),fontsize=16)\n",
    "        f += 1\n",
    "fig.tight_layout()"
   ]
  },
  {
   "cell_type": "code",
   "execution_count": 110,
   "metadata": {
    "execution": {
     "iopub.execute_input": "2022-05-17T06:22:07.074366Z",
     "iopub.status.busy": "2022-05-17T06:22:07.073951Z",
     "iopub.status.idle": "2022-05-17T06:22:07.758295Z",
     "shell.execute_reply": "2022-05-17T06:22:07.757383Z",
     "shell.execute_reply.started": "2022-05-17T06:22:07.074333Z"
    },
    "scrolled": true
   },
   "outputs": [
    {
     "data": {
      "image/png": "[encoded data removed]",
      "text/plain": [
       "<Figure size 720x360 with 1 Axes>"
      ]
     },
     "metadata": {
      "needs_background": "light"
     },
     "output_type": "display_data"
    }
   ],
   "source": [
    "plt.figure(figsize=(10,5))\n",
    "sns.barplot(data = df,x=\"quality\",y=\"alcohol\",hue=\"type\")\n",
    "plt.legend(loc=\"best\")\n",
    "plt.show()"
   ]
  },
  {
   "cell_type": "code",
   "execution_count": 109,
   "metadata": {
    "execution": {
     "iopub.execute_input": "2022-05-17T06:22:07.760408Z",
     "iopub.status.busy": "2022-05-17T06:22:07.759851Z",
     "iopub.status.idle": "2022-05-17T06:22:09.075766Z",
     "shell.execute_reply": "2022-05-17T06:22:09.074653Z",
     "shell.execute_reply.started": "2022-05-17T06:22:07.760360Z"
    },
    "scrolled": true
   },
   "outputs": [
    {
     "data": {
      "image/png": "[encoded data removed]",
      "text/plain": [
       "<Figure size 1080x720 with 2 Axes>"
      ]
     },
     "metadata": {
      "needs_background": "light"
     },
     "output_type": "display_data"
    }
   ],
   "source": [
    "# Checking the correlation of the independent features and the dependent target\n",
    "\n",
    "plt.figure(figsize=(15,10))\n",
    "sns.heatmap(df.corr(),annot=True)\n",
    "plt.show()"
   ]
  },
  {
   "cell_type": "code",
   "execution_count": 20,
   "metadata": {
    "execution": {
     "iopub.execute_input": "2022-05-17T06:22:09.077885Z",
     "iopub.status.busy": "2022-05-17T06:22:09.077527Z",
     "iopub.status.idle": "2022-05-17T06:22:09.501687Z",
     "shell.execute_reply": "2022-05-17T06:22:09.500657Z",
     "shell.execute_reply.started": "2022-05-17T06:22:09.077842Z"
    }
   },
   "outputs": [
    {
     "name": "stdout",
     "output_type": "stream",
     "text": [
      "chlorides type\n",
      "total sulfur dioxide type\n",
      "total sulfur dioxide free sulfur dioxide\n",
      "alcohol density\n"
     ]
    }
   ],
   "source": [
    "for a in range(len(df.corr().columns)):\n",
    "    for b in range(a):\n",
    "        if abs(df.corr().iloc[a,b]) >0.7:\n",
    "            name = df.corr().columns[a]\n",
    "            print(df.corr().columns[a],df.corr().columns[b])"
   ]
  },
  {
   "cell_type": "code",
   "execution_count": 21,
   "metadata": {
    "execution": {
     "iopub.execute_input": "2022-05-17T06:22:09.503488Z",
     "iopub.status.busy": "2022-05-17T06:22:09.503166Z",
     "iopub.status.idle": "2022-05-17T06:22:09.507363Z",
     "shell.execute_reply": "2022-05-17T06:22:09.506772Z",
     "shell.execute_reply.started": "2022-05-17T06:22:09.503442Z"
    }
   },
   "outputs": [],
   "source": [
    "# Total sulfur dioxide can be dropped as it correlates with free sulfur dioxide"
   ]
  },
  {
   "cell_type": "code",
   "execution_count": 22,
   "metadata": {
    "execution": {
     "iopub.execute_input": "2022-05-17T06:22:09.509175Z",
     "iopub.status.busy": "2022-05-17T06:22:09.508449Z",
     "iopub.status.idle": "2022-05-17T06:22:09.537491Z",
     "shell.execute_reply": "2022-05-17T06:22:09.536550Z",
     "shell.execute_reply.started": "2022-05-17T06:22:09.509134Z"
    }
   },
   "outputs": [
    {
     "data": {
      "text/html": [
       "<div>\n",
       "<style scoped>\n",
       "    .dataframe tbody tr th:only-of-type {\n",
       "        vertical-align: middle;\n",
       "    }\n",
       "\n",
       "    .dataframe tbody tr th {\n",
       "        vertical-align: top;\n",
       "    }\n",
       "\n",
       "    .dataframe thead th {\n",
       "        text-align: right;\n",
       "    }\n",
       "</style>\n",
       "<table border=\"1\" class=\"dataframe\">\n",
       "  <thead>\n",
       "    <tr style=\"text-align: right;\">\n",
       "      <th></th>\n",
       "      <th>fixed acidity</th>\n",
       "      <th>volatile acidity</th>\n",
       "      <th>citric acid</th>\n",
       "      <th>residual sugar</th>\n",
       "      <th>chlorides</th>\n",
       "      <th>free sulfur dioxide</th>\n",
       "      <th>density</th>\n",
       "      <th>pH</th>\n",
       "      <th>sulphates</th>\n",
       "      <th>alcohol</th>\n",
       "      <th>quality</th>\n",
       "    </tr>\n",
       "  </thead>\n",
       "  <tbody>\n",
       "    <tr>\n",
       "      <th>0</th>\n",
       "      <td>7.0</td>\n",
       "      <td>0.27</td>\n",
       "      <td>0.36</td>\n",
       "      <td>20.7</td>\n",
       "      <td>0.045</td>\n",
       "      <td>45.0</td>\n",
       "      <td>1.0010</td>\n",
       "      <td>3.00</td>\n",
       "      <td>0.45</td>\n",
       "      <td>8.8</td>\n",
       "      <td>6</td>\n",
       "    </tr>\n",
       "    <tr>\n",
       "      <th>1</th>\n",
       "      <td>6.3</td>\n",
       "      <td>0.30</td>\n",
       "      <td>0.34</td>\n",
       "      <td>1.6</td>\n",
       "      <td>0.049</td>\n",
       "      <td>14.0</td>\n",
       "      <td>0.9940</td>\n",
       "      <td>3.30</td>\n",
       "      <td>0.49</td>\n",
       "      <td>9.5</td>\n",
       "      <td>6</td>\n",
       "    </tr>\n",
       "    <tr>\n",
       "      <th>2</th>\n",
       "      <td>8.1</td>\n",
       "      <td>0.28</td>\n",
       "      <td>0.40</td>\n",
       "      <td>6.9</td>\n",
       "      <td>0.050</td>\n",
       "      <td>30.0</td>\n",
       "      <td>0.9951</td>\n",
       "      <td>3.26</td>\n",
       "      <td>0.44</td>\n",
       "      <td>10.1</td>\n",
       "      <td>6</td>\n",
       "    </tr>\n",
       "    <tr>\n",
       "      <th>3</th>\n",
       "      <td>7.2</td>\n",
       "      <td>0.23</td>\n",
       "      <td>0.32</td>\n",
       "      <td>8.5</td>\n",
       "      <td>0.058</td>\n",
       "      <td>47.0</td>\n",
       "      <td>0.9956</td>\n",
       "      <td>3.19</td>\n",
       "      <td>0.40</td>\n",
       "      <td>9.9</td>\n",
       "      <td>6</td>\n",
       "    </tr>\n",
       "    <tr>\n",
       "      <th>4</th>\n",
       "      <td>7.2</td>\n",
       "      <td>0.23</td>\n",
       "      <td>0.32</td>\n",
       "      <td>8.5</td>\n",
       "      <td>0.058</td>\n",
       "      <td>47.0</td>\n",
       "      <td>0.9956</td>\n",
       "      <td>3.19</td>\n",
       "      <td>0.40</td>\n",
       "      <td>9.9</td>\n",
       "      <td>6</td>\n",
       "    </tr>\n",
       "  </tbody>\n",
       "</table>\n",
       "</div>"
      ],
      "text/plain": [
       "   fixed acidity  volatile acidity  citric acid  residual sugar  chlorides  \\\n",
       "0            7.0              0.27         0.36            20.7      0.045   \n",
       "1            6.3              0.30         0.34             1.6      0.049   \n",
       "2            8.1              0.28         0.40             6.9      0.050   \n",
       "3            7.2              0.23         0.32             8.5      0.058   \n",
       "4            7.2              0.23         0.32             8.5      0.058   \n",
       "\n",
       "   free sulfur dioxide  density    pH  sulphates  alcohol  quality  \n",
       "0                 45.0   1.0010  3.00       0.45      8.8        6  \n",
       "1                 14.0   0.9940  3.30       0.49      9.5        6  \n",
       "2                 30.0   0.9951  3.26       0.44     10.1        6  \n",
       "3                 47.0   0.9956  3.19       0.40      9.9        6  \n",
       "4                 47.0   0.9956  3.19       0.40      9.9        6  "
      ]
     },
     "execution_count": 22,
     "metadata": {},
     "output_type": "execute_result"
    }
   ],
   "source": [
    "X = X.drop(\"total sulfur dioxide\",axis=1)\n",
    "X.head()"
   ]
  },
  {
   "cell_type": "code",
   "execution_count": 23,
   "metadata": {
    "execution": {
     "iopub.execute_input": "2022-05-17T06:22:09.539095Z",
     "iopub.status.busy": "2022-05-17T06:22:09.538857Z",
     "iopub.status.idle": "2022-05-17T06:22:09.546172Z",
     "shell.execute_reply": "2022-05-17T06:22:09.545282Z",
     "shell.execute_reply.started": "2022-05-17T06:22:09.539067Z"
    }
   },
   "outputs": [
    {
     "data": {
      "text/plain": [
       "array([6, 5, 7, 8, 4, 3, 9])"
      ]
     },
     "execution_count": 23,
     "metadata": {},
     "output_type": "execute_result"
    }
   ],
   "source": [
    "X['quality'].unique()"
   ]
  },
  {
   "cell_type": "code",
   "execution_count": 24,
   "metadata": {
    "execution": {
     "iopub.execute_input": "2022-05-17T06:22:09.547935Z",
     "iopub.status.busy": "2022-05-17T06:22:09.547568Z",
     "iopub.status.idle": "2022-05-17T06:22:09.560173Z",
     "shell.execute_reply": "2022-05-17T06:22:09.559077Z",
     "shell.execute_reply.started": "2022-05-17T06:22:09.547899Z"
    }
   },
   "outputs": [
    {
     "data": {
      "text/plain": [
       "5.818505338078292"
      ]
     },
     "execution_count": 24,
     "metadata": {},
     "output_type": "execute_result"
    }
   ],
   "source": [
    "X['quality'].mean()"
   ]
  },
  {
   "cell_type": "code",
   "execution_count": 25,
   "metadata": {
    "execution": {
     "iopub.execute_input": "2022-05-17T06:22:09.564510Z",
     "iopub.status.busy": "2022-05-17T06:22:09.561962Z",
     "iopub.status.idle": "2022-05-17T06:22:09.594841Z",
     "shell.execute_reply": "2022-05-17T06:22:09.593878Z",
     "shell.execute_reply.started": "2022-05-17T06:22:09.564454Z"
    }
   },
   "outputs": [
    {
     "data": {
      "text/html": [
       "<div>\n",
       "<style scoped>\n",
       "    .dataframe tbody tr th:only-of-type {\n",
       "        vertical-align: middle;\n",
       "    }\n",
       "\n",
       "    .dataframe tbody tr th {\n",
       "        vertical-align: top;\n",
       "    }\n",
       "\n",
       "    .dataframe thead th {\n",
       "        text-align: right;\n",
       "    }\n",
       "</style>\n",
       "<table border=\"1\" class=\"dataframe\">\n",
       "  <thead>\n",
       "    <tr style=\"text-align: right;\">\n",
       "      <th></th>\n",
       "      <th>fixed acidity</th>\n",
       "      <th>volatile acidity</th>\n",
       "      <th>citric acid</th>\n",
       "      <th>residual sugar</th>\n",
       "      <th>chlorides</th>\n",
       "      <th>free sulfur dioxide</th>\n",
       "      <th>density</th>\n",
       "      <th>pH</th>\n",
       "      <th>sulphates</th>\n",
       "      <th>alcohol</th>\n",
       "      <th>quality</th>\n",
       "      <th>best quality</th>\n",
       "    </tr>\n",
       "  </thead>\n",
       "  <tbody>\n",
       "    <tr>\n",
       "      <th>0</th>\n",
       "      <td>7.0</td>\n",
       "      <td>0.27</td>\n",
       "      <td>0.36</td>\n",
       "      <td>20.7</td>\n",
       "      <td>0.045</td>\n",
       "      <td>45.0</td>\n",
       "      <td>1.0010</td>\n",
       "      <td>3.00</td>\n",
       "      <td>0.45</td>\n",
       "      <td>8.8</td>\n",
       "      <td>6</td>\n",
       "      <td>1</td>\n",
       "    </tr>\n",
       "    <tr>\n",
       "      <th>1</th>\n",
       "      <td>6.3</td>\n",
       "      <td>0.30</td>\n",
       "      <td>0.34</td>\n",
       "      <td>1.6</td>\n",
       "      <td>0.049</td>\n",
       "      <td>14.0</td>\n",
       "      <td>0.9940</td>\n",
       "      <td>3.30</td>\n",
       "      <td>0.49</td>\n",
       "      <td>9.5</td>\n",
       "      <td>6</td>\n",
       "      <td>1</td>\n",
       "    </tr>\n",
       "    <tr>\n",
       "      <th>2</th>\n",
       "      <td>8.1</td>\n",
       "      <td>0.28</td>\n",
       "      <td>0.40</td>\n",
       "      <td>6.9</td>\n",
       "      <td>0.050</td>\n",
       "      <td>30.0</td>\n",
       "      <td>0.9951</td>\n",
       "      <td>3.26</td>\n",
       "      <td>0.44</td>\n",
       "      <td>10.1</td>\n",
       "      <td>6</td>\n",
       "      <td>1</td>\n",
       "    </tr>\n",
       "    <tr>\n",
       "      <th>3</th>\n",
       "      <td>7.2</td>\n",
       "      <td>0.23</td>\n",
       "      <td>0.32</td>\n",
       "      <td>8.5</td>\n",
       "      <td>0.058</td>\n",
       "      <td>47.0</td>\n",
       "      <td>0.9956</td>\n",
       "      <td>3.19</td>\n",
       "      <td>0.40</td>\n",
       "      <td>9.9</td>\n",
       "      <td>6</td>\n",
       "      <td>1</td>\n",
       "    </tr>\n",
       "    <tr>\n",
       "      <th>4</th>\n",
       "      <td>7.2</td>\n",
       "      <td>0.23</td>\n",
       "      <td>0.32</td>\n",
       "      <td>8.5</td>\n",
       "      <td>0.058</td>\n",
       "      <td>47.0</td>\n",
       "      <td>0.9956</td>\n",
       "      <td>3.19</td>\n",
       "      <td>0.40</td>\n",
       "      <td>9.9</td>\n",
       "      <td>6</td>\n",
       "      <td>1</td>\n",
       "    </tr>\n",
       "  </tbody>\n",
       "</table>\n",
       "</div>"
      ],
      "text/plain": [
       "   fixed acidity  volatile acidity  citric acid  residual sugar  chlorides  \\\n",
       "0            7.0              0.27         0.36            20.7      0.045   \n",
       "1            6.3              0.30         0.34             1.6      0.049   \n",
       "2            8.1              0.28         0.40             6.9      0.050   \n",
       "3            7.2              0.23         0.32             8.5      0.058   \n",
       "4            7.2              0.23         0.32             8.5      0.058   \n",
       "\n",
       "   free sulfur dioxide  density    pH  sulphates  alcohol  quality  \\\n",
       "0                 45.0   1.0010  3.00       0.45      8.8        6   \n",
       "1                 14.0   0.9940  3.30       0.49      9.5        6   \n",
       "2                 30.0   0.9951  3.26       0.44     10.1        6   \n",
       "3                 47.0   0.9956  3.19       0.40      9.9        6   \n",
       "4                 47.0   0.9956  3.19       0.40      9.9        6   \n",
       "\n",
       "   best quality  \n",
       "0             1  \n",
       "1             1  \n",
       "2             1  \n",
       "3             1  \n",
       "4             1  "
      ]
     },
     "execution_count": 25,
     "metadata": {},
     "output_type": "execute_result"
    }
   ],
   "source": [
    "# A feature best quality is created with quality feature and the condition of it to be best if quality is greater than 5\n",
    "\n",
    "X['best quality'] = X['quality'].apply(lambda x: 1 if x>=5. else 0)\n",
    "X.head()"
   ]
  },
  {
   "cell_type": "code",
   "execution_count": 26,
   "metadata": {
    "execution": {
     "iopub.execute_input": "2022-05-17T06:22:09.596547Z",
     "iopub.status.busy": "2022-05-17T06:22:09.596261Z",
     "iopub.status.idle": "2022-05-17T06:22:09.624105Z",
     "shell.execute_reply": "2022-05-17T06:22:09.623302Z",
     "shell.execute_reply.started": "2022-05-17T06:22:09.596516Z"
    }
   },
   "outputs": [
    {
     "data": {
      "text/html": [
       "<div>\n",
       "<style scoped>\n",
       "    .dataframe tbody tr th:only-of-type {\n",
       "        vertical-align: middle;\n",
       "    }\n",
       "\n",
       "    .dataframe tbody tr th {\n",
       "        vertical-align: top;\n",
       "    }\n",
       "\n",
       "    .dataframe thead th {\n",
       "        text-align: right;\n",
       "    }\n",
       "</style>\n",
       "<table border=\"1\" class=\"dataframe\">\n",
       "  <thead>\n",
       "    <tr style=\"text-align: right;\">\n",
       "      <th></th>\n",
       "      <th>fixed acidity</th>\n",
       "      <th>volatile acidity</th>\n",
       "      <th>citric acid</th>\n",
       "      <th>residual sugar</th>\n",
       "      <th>chlorides</th>\n",
       "      <th>free sulfur dioxide</th>\n",
       "      <th>density</th>\n",
       "      <th>pH</th>\n",
       "      <th>sulphates</th>\n",
       "      <th>alcohol</th>\n",
       "      <th>quality</th>\n",
       "      <th>best quality</th>\n",
       "    </tr>\n",
       "  </thead>\n",
       "  <tbody>\n",
       "    <tr>\n",
       "      <th>0</th>\n",
       "      <td>7.0</td>\n",
       "      <td>0.27</td>\n",
       "      <td>0.36</td>\n",
       "      <td>20.7</td>\n",
       "      <td>0.045</td>\n",
       "      <td>45.0</td>\n",
       "      <td>1.0010</td>\n",
       "      <td>3.00</td>\n",
       "      <td>0.45</td>\n",
       "      <td>8.8</td>\n",
       "      <td>6</td>\n",
       "      <td>1</td>\n",
       "    </tr>\n",
       "    <tr>\n",
       "      <th>1</th>\n",
       "      <td>6.3</td>\n",
       "      <td>0.30</td>\n",
       "      <td>0.34</td>\n",
       "      <td>1.6</td>\n",
       "      <td>0.049</td>\n",
       "      <td>14.0</td>\n",
       "      <td>0.9940</td>\n",
       "      <td>3.30</td>\n",
       "      <td>0.49</td>\n",
       "      <td>9.5</td>\n",
       "      <td>6</td>\n",
       "      <td>1</td>\n",
       "    </tr>\n",
       "    <tr>\n",
       "      <th>2</th>\n",
       "      <td>8.1</td>\n",
       "      <td>0.28</td>\n",
       "      <td>0.40</td>\n",
       "      <td>6.9</td>\n",
       "      <td>0.050</td>\n",
       "      <td>30.0</td>\n",
       "      <td>0.9951</td>\n",
       "      <td>3.26</td>\n",
       "      <td>0.44</td>\n",
       "      <td>10.1</td>\n",
       "      <td>6</td>\n",
       "      <td>1</td>\n",
       "    </tr>\n",
       "    <tr>\n",
       "      <th>3</th>\n",
       "      <td>7.2</td>\n",
       "      <td>0.23</td>\n",
       "      <td>0.32</td>\n",
       "      <td>8.5</td>\n",
       "      <td>0.058</td>\n",
       "      <td>47.0</td>\n",
       "      <td>0.9956</td>\n",
       "      <td>3.19</td>\n",
       "      <td>0.40</td>\n",
       "      <td>9.9</td>\n",
       "      <td>6</td>\n",
       "      <td>1</td>\n",
       "    </tr>\n",
       "    <tr>\n",
       "      <th>4</th>\n",
       "      <td>7.2</td>\n",
       "      <td>0.23</td>\n",
       "      <td>0.32</td>\n",
       "      <td>8.5</td>\n",
       "      <td>0.058</td>\n",
       "      <td>47.0</td>\n",
       "      <td>0.9956</td>\n",
       "      <td>3.19</td>\n",
       "      <td>0.40</td>\n",
       "      <td>9.9</td>\n",
       "      <td>6</td>\n",
       "      <td>1</td>\n",
       "    </tr>\n",
       "  </tbody>\n",
       "</table>\n",
       "</div>"
      ],
      "text/plain": [
       "   fixed acidity  volatile acidity  citric acid  residual sugar  chlorides  \\\n",
       "0            7.0              0.27         0.36            20.7      0.045   \n",
       "1            6.3              0.30         0.34             1.6      0.049   \n",
       "2            8.1              0.28         0.40             6.9      0.050   \n",
       "3            7.2              0.23         0.32             8.5      0.058   \n",
       "4            7.2              0.23         0.32             8.5      0.058   \n",
       "\n",
       "   free sulfur dioxide  density    pH  sulphates  alcohol  quality  \\\n",
       "0                 45.0   1.0010  3.00       0.45      8.8        6   \n",
       "1                 14.0   0.9940  3.30       0.49      9.5        6   \n",
       "2                 30.0   0.9951  3.26       0.44     10.1        6   \n",
       "3                 47.0   0.9956  3.19       0.40      9.9        6   \n",
       "4                 47.0   0.9956  3.19       0.40      9.9        6   \n",
       "\n",
       "   best quality  \n",
       "0             1  \n",
       "1             1  \n",
       "2             1  \n",
       "3             1  \n",
       "4             1  "
      ]
     },
     "execution_count": 26,
     "metadata": {},
     "output_type": "execute_result"
    }
   ],
   "source": [
    "X.drop(\"quality\",axis=1)\n",
    "X.head()"
   ]
  },
  {
   "cell_type": "code",
   "execution_count": 27,
   "metadata": {
    "execution": {
     "iopub.execute_input": "2022-05-17T06:22:09.625877Z",
     "iopub.status.busy": "2022-05-17T06:22:09.625595Z",
     "iopub.status.idle": "2022-05-17T06:22:09.636218Z",
     "shell.execute_reply": "2022-05-17T06:22:09.635294Z",
     "shell.execute_reply.started": "2022-05-17T06:22:09.625837Z"
    }
   },
   "outputs": [
    {
     "name": "stdout",
     "output_type": "stream",
     "text": [
      "(4847, 12) (1616, 12) (4847,) (1616,)\n"
     ]
    }
   ],
   "source": [
    "# Splitting the data for training and testing\n",
    "\n",
    "X_train,X_test,y_train,y_test = train_test_split(X.values,y.values,test_size=0.25,random_state=123)\n",
    "print(X_train.shape,X_test.shape,y_train.shape,y_test.shape)"
   ]
  },
  {
   "cell_type": "code",
   "execution_count": 28,
   "metadata": {
    "execution": {
     "iopub.execute_input": "2022-05-17T06:22:09.640936Z",
     "iopub.status.busy": "2022-05-17T06:22:09.640669Z",
     "iopub.status.idle": "2022-05-17T06:22:09.648309Z",
     "shell.execute_reply": "2022-05-17T06:22:09.647619Z",
     "shell.execute_reply.started": "2022-05-17T06:22:09.640904Z"
    }
   },
   "outputs": [],
   "source": [
    "# Scaling the values\n",
    "\n",
    "sc = StandardScaler()\n",
    "X_train = sc.fit_transform(X_train)\n",
    "X_test = sc.transform(X_test)"
   ]
  },
  {
   "cell_type": "code",
   "execution_count": 29,
   "metadata": {
    "execution": {
     "iopub.execute_input": "2022-05-17T06:22:09.650110Z",
     "iopub.status.busy": "2022-05-17T06:22:09.649859Z",
     "iopub.status.idle": "2022-05-17T06:22:09.659635Z",
     "shell.execute_reply": "2022-05-17T06:22:09.658810Z",
     "shell.execute_reply.started": "2022-05-17T06:22:09.650079Z"
    }
   },
   "outputs": [],
   "source": [
    "# Defining the base learners\n",
    "\n",
    "models = {}\n",
    "# Logistic Regression\n",
    "lr = LogisticRegression()\n",
    "models[\"Logistic Regression\"] = lr\n",
    "# KNN\n",
    "knn = KNeighborsClassifier()\n",
    "models[\"K Neighbors Classifier\"] = knn\n",
    "# SVC\n",
    "svc = SVC(kernel=\"linear\")\n",
    "models[\"Support Vector Classifier\"] = svc\n",
    "# Decision Tree Classifier\n",
    "dtc = DecisionTreeClassifier()\n",
    "models[\"Decision Tree Classifier\"] = dtc\n",
    "rf = RandomForestClassifier(n_estimators=10, criterion=\"entropy\",random_state=0)\n",
    "models[\"Random Forest\"] = rf"
   ]
  },
  {
   "cell_type": "code",
   "execution_count": 30,
   "metadata": {
    "execution": {
     "iopub.execute_input": "2022-05-17T06:22:09.661383Z",
     "iopub.status.busy": "2022-05-17T06:22:09.661144Z",
     "iopub.status.idle": "2022-05-17T06:22:09.680776Z",
     "shell.execute_reply": "2022-05-17T06:22:09.679804Z",
     "shell.execute_reply.started": "2022-05-17T06:22:09.661357Z"
    }
   },
   "outputs": [
    {
     "data": {
      "text/plain": [
       "{'Logistic Regression': LogisticRegression(),\n",
       " 'K Neighbors Classifier': KNeighborsClassifier(),\n",
       " 'Support Vector Classifier': SVC(kernel='linear'),\n",
       " 'Decision Tree Classifier': DecisionTreeClassifier(),\n",
       " 'Random Forest': RandomForestClassifier(criterion='entropy', n_estimators=10, random_state=0)}"
      ]
     },
     "execution_count": 30,
     "metadata": {},
     "output_type": "execute_result"
    }
   ],
   "source": [
    "models"
   ]
  },
  {
   "cell_type": "code",
   "execution_count": 31,
   "metadata": {
    "execution": {
     "iopub.execute_input": "2022-05-17T06:22:09.682887Z",
     "iopub.status.busy": "2022-05-17T06:22:09.682533Z",
     "iopub.status.idle": "2022-05-17T06:22:09.973209Z",
     "shell.execute_reply": "2022-05-17T06:22:09.972323Z",
     "shell.execute_reply.started": "2022-05-17T06:22:09.682841Z"
    }
   },
   "outputs": [],
   "source": [
    "for model in models:\n",
    "    models[model].fit(X_train,y_train)"
   ]
  },
  {
   "cell_type": "code",
   "execution_count": 32,
   "metadata": {
    "execution": {
     "iopub.execute_input": "2022-05-17T06:22:09.975118Z",
     "iopub.status.busy": "2022-05-17T06:22:09.974799Z",
     "iopub.status.idle": "2022-05-17T06:22:09.983112Z",
     "shell.execute_reply": "2022-05-17T06:22:09.981937Z",
     "shell.execute_reply.started": "2022-05-17T06:22:09.975077Z"
    }
   },
   "outputs": [],
   "source": [
    "def model_performance(modelName,model,X_test,y_test):\n",
    "    print(\"_______________________________________________\")    \n",
    "    print(\"Model:\",modelName)\n",
    "    y_pred = model.predict(X_test)\n",
    "    print(\"Accuracy Score:\",accuracy_score(y_test,y_pred))\n",
    "    cm = confusion_matrix(y_test,y_pred)\n",
    "    print(\"Confusion Matrix:\\n\",cm)\n",
    "    cmd = ConfusionMatrixDisplay(cm,display_labels=[\"white\",\"red\"])\n",
    "    cmd.plot()\n",
    "    print(\"Classification Report:\\n\",classification_report(y_test,y_pred))\n",
    "    plt.show()\n",
    "    print(\"_______________________________________________\")"
   ]
  },
  {
   "cell_type": "code",
   "execution_count": 33,
   "metadata": {
    "execution": {
     "iopub.execute_input": "2022-05-17T06:22:09.985427Z",
     "iopub.status.busy": "2022-05-17T06:22:09.985061Z",
     "iopub.status.idle": "2022-05-17T06:22:11.291392Z",
     "shell.execute_reply": "2022-05-17T06:22:11.290468Z",
     "shell.execute_reply.started": "2022-05-17T06:22:09.985382Z"
    }
   },
   "outputs": [
    {
     "name": "stdout",
     "output_type": "stream",
     "text": [
      "_______________________________________________\n",
      "Model: Logistic Regression\n",
      "Accuracy Score: 0.9863861386138614\n",
      "Confusion Matrix:\n",
      " [[ 390   13]\n",
      " [   9 1204]]\n",
      "Classification Report:\n",
      "               precision    recall  f1-score   support\n",
      "\n",
      "           0       0.98      0.97      0.97       403\n",
      "           1       0.99      0.99      0.99      1213\n",
      "\n",
      "    accuracy                           0.99      1616\n",
      "   macro avg       0.98      0.98      0.98      1616\n",
      "weighted avg       0.99      0.99      0.99      1616\n",
      "\n"
     ]
    },
    {
     "data": {
      "image/png": "[encoded data removed]",
      "text/plain": [
       "<Figure size 432x288 with 2 Axes>"
      ]
     },
     "metadata": {
      "needs_background": "light"
     },
     "output_type": "display_data"
    },
    {
     "name": "stdout",
     "output_type": "stream",
     "text": [
      "_______________________________________________\n",
      "_______________________________________________\n",
      "Model: K Neighbors Classifier\n",
      "Accuracy Score: 0.9876237623762376\n",
      "Confusion Matrix:\n",
      " [[ 391   12]\n",
      " [   8 1205]]\n",
      "Classification Report:\n",
      "               precision    recall  f1-score   support\n",
      "\n",
      "           0       0.98      0.97      0.98       403\n",
      "           1       0.99      0.99      0.99      1213\n",
      "\n",
      "    accuracy                           0.99      1616\n",
      "   macro avg       0.99      0.98      0.98      1616\n",
      "weighted avg       0.99      0.99      0.99      1616\n",
      "\n"
     ]
    },
    {
     "data": {
      "image/png": "[encoded data removed]",
      "text/plain": [
       "<Figure size 432x288 with 2 Axes>"
      ]
     },
     "metadata": {
      "needs_background": "light"
     },
     "output_type": "display_data"
    },
    {
     "name": "stdout",
     "output_type": "stream",
     "text": [
      "_______________________________________________\n",
      "_______________________________________________\n",
      "Model: Support Vector Classifier\n",
      "Accuracy Score: 0.989480198019802\n",
      "Confusion Matrix:\n",
      " [[ 394    9]\n",
      " [   8 1205]]\n",
      "Classification Report:\n",
      "               precision    recall  f1-score   support\n",
      "\n",
      "           0       0.98      0.98      0.98       403\n",
      "           1       0.99      0.99      0.99      1213\n",
      "\n",
      "    accuracy                           0.99      1616\n",
      "   macro avg       0.99      0.99      0.99      1616\n",
      "weighted avg       0.99      0.99      0.99      1616\n",
      "\n"
     ]
    },
    {
     "data": {
      "image/png": "[encoded data removed]",
      "text/plain": [
       "<Figure size 432x288 with 2 Axes>"
      ]
     },
     "metadata": {
      "needs_background": "light"
     },
     "output_type": "display_data"
    },
    {
     "name": "stdout",
     "output_type": "stream",
     "text": [
      "_______________________________________________\n",
      "_______________________________________________\n",
      "Model: Decision Tree Classifier\n",
      "Accuracy Score: 0.9628712871287128\n",
      "Confusion Matrix:\n",
      " [[ 375   28]\n",
      " [  32 1181]]\n",
      "Classification Report:\n",
      "               precision    recall  f1-score   support\n",
      "\n",
      "           0       0.92      0.93      0.93       403\n",
      "           1       0.98      0.97      0.98      1213\n",
      "\n",
      "    accuracy                           0.96      1616\n",
      "   macro avg       0.95      0.95      0.95      1616\n",
      "weighted avg       0.96      0.96      0.96      1616\n",
      "\n"
     ]
    },
    {
     "data": {
      "image/png": "[encoded data removed]",
      "text/plain": [
       "<Figure size 432x288 with 2 Axes>"
      ]
     },
     "metadata": {
      "needs_background": "light"
     },
     "output_type": "display_data"
    },
    {
     "name": "stdout",
     "output_type": "stream",
     "text": [
      "_______________________________________________\n",
      "_______________________________________________\n",
      "Model: Random Forest\n",
      "Accuracy Score: 0.9888613861386139\n",
      "Confusion Matrix:\n",
      " [[ 392   11]\n",
      " [   7 1206]]\n",
      "Classification Report:\n",
      "               precision    recall  f1-score   support\n",
      "\n",
      "           0       0.98      0.97      0.98       403\n",
      "           1       0.99      0.99      0.99      1213\n",
      "\n",
      "    accuracy                           0.99      1616\n",
      "   macro avg       0.99      0.98      0.99      1616\n",
      "weighted avg       0.99      0.99      0.99      1616\n",
      "\n"
     ]
    },
    {
     "data": {
      "image/png": "[encoded data removed]",
      "text/plain": [
       "<Figure size 432x288 with 2 Axes>"
      ]
     },
     "metadata": {
      "needs_background": "light"
     },
     "output_type": "display_data"
    },
    {
     "name": "stdout",
     "output_type": "stream",
     "text": [
      "_______________________________________________\n"
     ]
    }
   ],
   "source": [
    "# Performance of the base learners\n",
    "\n",
    "for model in models:\n",
    "    model_performance(model,models[model],X_test,y_test)"
   ]
  },
  {
   "cell_type": "code",
   "execution_count": 34,
   "metadata": {
    "execution": {
     "iopub.execute_input": "2022-05-17T06:22:11.292746Z",
     "iopub.status.busy": "2022-05-17T06:22:11.292502Z",
     "iopub.status.idle": "2022-05-17T06:22:11.303491Z",
     "shell.execute_reply": "2022-05-17T06:22:11.302614Z",
     "shell.execute_reply.started": "2022-05-17T06:22:11.292716Z"
    }
   },
   "outputs": [
    {
     "data": {
      "text/plain": [
       "[('Logistic Regression', LogisticRegression()),\n",
       " ('K Neighbors Classifier', KNeighborsClassifier()),\n",
       " ('Support Vector Classifier', SVC(kernel='linear')),\n",
       " ('Decision Tree Classifier', DecisionTreeClassifier()),\n",
       " ('Random Forest',\n",
       "  RandomForestClassifier(criterion='entropy', n_estimators=10, random_state=0))]"
      ]
     },
     "execution_count": 34,
     "metadata": {},
     "output_type": "execute_result"
    }
   ],
   "source": [
    "models_list = []\n",
    "for model_ in models:\n",
    "    models_list.append((model_,models[model_]))\n",
    "models_list"
   ]
  },
  {
   "cell_type": "code",
   "execution_count": 35,
   "metadata": {
    "execution": {
     "iopub.execute_input": "2022-05-17T06:22:11.305729Z",
     "iopub.status.busy": "2022-05-17T06:22:11.305370Z",
     "iopub.status.idle": "2022-05-17T06:22:11.314827Z",
     "shell.execute_reply": "2022-05-17T06:22:11.313994Z",
     "shell.execute_reply.started": "2022-05-17T06:22:11.305684Z"
    }
   },
   "outputs": [],
   "source": [
    "# Defining the ensemble model\n",
    "\n",
    "ensemble = VotingClassifier(estimators = models_list, voting=\"hard\")"
   ]
  },
  {
   "cell_type": "code",
   "execution_count": 36,
   "metadata": {
    "execution": {
     "iopub.execute_input": "2022-05-17T06:22:11.316226Z",
     "iopub.status.busy": "2022-05-17T06:22:11.315910Z",
     "iopub.status.idle": "2022-05-17T06:22:11.612227Z",
     "shell.execute_reply": "2022-05-17T06:22:11.611166Z",
     "shell.execute_reply.started": "2022-05-17T06:22:11.316187Z"
    }
   },
   "outputs": [
    {
     "data": {
      "text/plain": [
       "VotingClassifier(estimators=[('Logistic Regression', LogisticRegression()),\n",
       "                             ('K Neighbors Classifier', KNeighborsClassifier()),\n",
       "                             ('Support Vector Classifier',\n",
       "                              SVC(kernel='linear')),\n",
       "                             ('Decision Tree Classifier',\n",
       "                              DecisionTreeClassifier()),\n",
       "                             ('Random Forest',\n",
       "                              RandomForestClassifier(criterion='entropy',\n",
       "                                                     n_estimators=10,\n",
       "                                                     random_state=0))])"
      ]
     },
     "execution_count": 36,
     "metadata": {},
     "output_type": "execute_result"
    }
   ],
   "source": [
    "ensemble.fit(X_train,y_train)"
   ]
  },
  {
   "cell_type": "code",
   "execution_count": 37,
   "metadata": {
    "execution": {
     "iopub.execute_input": "2022-05-17T06:22:11.613684Z",
     "iopub.status.busy": "2022-05-17T06:22:11.613435Z",
     "iopub.status.idle": "2022-05-17T06:22:12.084378Z",
     "shell.execute_reply": "2022-05-17T06:22:12.083515Z",
     "shell.execute_reply.started": "2022-05-17T06:22:11.613653Z"
    }
   },
   "outputs": [
    {
     "name": "stdout",
     "output_type": "stream",
     "text": [
      "_______________________________________________\n",
      "Model: Ensemble of all Base Learners\n",
      "Accuracy Score: 0.9907178217821783\n",
      "Confusion Matrix:\n",
      " [[ 393   10]\n",
      " [   5 1208]]\n",
      "Classification Report:\n",
      "               precision    recall  f1-score   support\n",
      "\n",
      "           0       0.99      0.98      0.98       403\n",
      "           1       0.99      1.00      0.99      1213\n",
      "\n",
      "    accuracy                           0.99      1616\n",
      "   macro avg       0.99      0.99      0.99      1616\n",
      "weighted avg       0.99      0.99      0.99      1616\n",
      "\n"
     ]
    },
    {
     "data": {
      "image/png": "[encoded data removed]",
      "text/plain": [
       "<Figure size 432x288 with 2 Axes>"
      ]
     },
     "metadata": {
      "needs_background": "light"
     },
     "output_type": "display_data"
    },
    {
     "name": "stdout",
     "output_type": "stream",
     "text": [
      "_______________________________________________\n"
     ]
    }
   ],
   "source": [
    "# Performance of the ensemble model\n",
    "\n",
    "model_performance(\"Ensemble of all Base Learners\",ensemble,X_test,y_test)"
   ]
  },
  {
   "cell_type": "code",
   "execution_count": 38,
   "metadata": {
    "execution": {
     "iopub.execute_input": "2022-05-17T06:22:12.086764Z",
     "iopub.status.busy": "2022-05-17T06:22:12.086090Z",
     "iopub.status.idle": "2022-05-17T06:22:12.092804Z",
     "shell.execute_reply": "2022-05-17T06:22:12.091942Z",
     "shell.execute_reply.started": "2022-05-17T06:22:12.086706Z"
    }
   },
   "outputs": [
    {
     "data": {
      "text/plain": [
       "(6463, 12)"
      ]
     },
     "execution_count": 38,
     "metadata": {},
     "output_type": "execute_result"
    }
   ],
   "source": [
    "X.shape"
   ]
  },
  {
   "cell_type": "code",
   "execution_count": 39,
   "metadata": {
    "execution": {
     "iopub.execute_input": "2022-05-17T06:22:12.094163Z",
     "iopub.status.busy": "2022-05-17T06:22:12.093928Z",
     "iopub.status.idle": "2022-05-17T06:22:12.273741Z",
     "shell.execute_reply": "2022-05-17T06:22:12.272811Z",
     "shell.execute_reply.started": "2022-05-17T06:22:12.094137Z"
    }
   },
   "outputs": [
    {
     "name": "stderr",
     "output_type": "stream",
     "text": [
      "2022-05-17 06:22:12.154876: I tensorflow/core/common_runtime/process_util.cc:146] Creating new thread pool with default inter op setting: 2. Tune using inter_op_parallelism_threads for best performance.\n"
     ]
    }
   ],
   "source": [
    "# Defining the Artifical Neural Network\n",
    "\n",
    "factor=0.0001\n",
    "rate=0.4\n",
    "\n",
    "# Model Structure\n",
    "model=tf.keras.models.Sequential([\n",
    "                                  tf.keras.layers.Dense(160,input_shape=(12,),activation=\"relu\",kernel_regularizer=l2(factor)),\n",
    "                                  tf.keras.layers.Dropout(rate),\n",
    "                                  tf.keras.layers.Dense(120,activation=\"relu\",kernel_regularizer=l2(factor)),\n",
    "                                  tf.keras.layers.Dropout(rate),\n",
    "                                  tf.keras.layers.Dense(80,activation='relu',kernel_regularizer=l2(factor)),\n",
    "                                  tf.keras.layers.Dropout(rate),\n",
    "                                  tf.keras.layers.Dense(40,activation='relu',kernel_regularizer=l2(factor)),\n",
    "                                  tf.keras.layers.Dropout(rate),\n",
    "                                  tf.keras.layers.Dense(20,activation='relu',kernel_regularizer=l2(factor)),\n",
    "                                  tf.keras.layers.Dropout(rate),\n",
    "                                  tf.keras.layers.Dense(10,activation='relu',kernel_regularizer=l2(factor)),\n",
    "                                  tf.keras.layers.Dropout(rate),\n",
    "                                  tf.keras.layers.Dense(units=1, activation='sigmoid')])"
   ]
  },
  {
   "cell_type": "code",
   "execution_count": 40,
   "metadata": {
    "execution": {
     "iopub.execute_input": "2022-05-17T06:22:12.275788Z",
     "iopub.status.busy": "2022-05-17T06:22:12.275032Z",
     "iopub.status.idle": "2022-05-17T06:22:12.281823Z",
     "shell.execute_reply": "2022-05-17T06:22:12.281107Z",
     "shell.execute_reply.started": "2022-05-17T06:22:12.275736Z"
    }
   },
   "outputs": [],
   "source": [
    "class myCallback(tf.keras.callbacks.Callback):\n",
    "  def on_epoch_end(self,epoch,logs={}):\n",
    "    if(logs.get(\"val_accuracy\")>0.95):\n",
    "      print(\"Reached the accuracy required (ie) 90%\", logs)\n",
    "      self.model.stop_training=True\n",
    "callback=myCallback()"
   ]
  },
  {
   "cell_type": "code",
   "execution_count": 41,
   "metadata": {
    "execution": {
     "iopub.execute_input": "2022-05-17T06:22:12.283481Z",
     "iopub.status.busy": "2022-05-17T06:22:12.283080Z",
     "iopub.status.idle": "2022-05-17T06:22:12.294606Z",
     "shell.execute_reply": "2022-05-17T06:22:12.293543Z",
     "shell.execute_reply.started": "2022-05-17T06:22:12.283432Z"
    }
   },
   "outputs": [],
   "source": [
    "def plot_metric(history, metric):\n",
    "    train_metrics = history.history[metric]\n",
    "    val_metrics = history.history['val_'+metric]\n",
    "    epochs = range(1, len(train_metrics) + 1)\n",
    "    plt.plot(epochs, train_metrics)\n",
    "    plt.plot(epochs, val_metrics)\n",
    "    plt.title('Training and validation '+ metric)\n",
    "    plt.xlabel(\"Epochs\")\n",
    "    plt.ylabel(metric)\n",
    "    plt.legend([\"train_\"+metric, 'val_'+metric])\n",
    "    plt.show()"
   ]
  },
  {
   "cell_type": "code",
   "execution_count": 42,
   "metadata": {
    "execution": {
     "iopub.execute_input": "2022-05-17T06:22:12.296388Z",
     "iopub.status.busy": "2022-05-17T06:22:12.295948Z",
     "iopub.status.idle": "2022-05-17T06:22:12.315845Z",
     "shell.execute_reply": "2022-05-17T06:22:12.314787Z",
     "shell.execute_reply.started": "2022-05-17T06:22:12.296351Z"
    }
   },
   "outputs": [],
   "source": [
    "model.compile(optimizer = 'adam', loss = 'binary_crossentropy', metrics = ['accuracy'])"
   ]
  },
  {
   "cell_type": "code",
   "execution_count": 43,
   "metadata": {
    "execution": {
     "iopub.execute_input": "2022-05-17T06:22:12.317748Z",
     "iopub.status.busy": "2022-05-17T06:22:12.317124Z",
     "iopub.status.idle": "2022-05-17T06:22:14.825195Z",
     "shell.execute_reply": "2022-05-17T06:22:14.824270Z",
     "shell.execute_reply.started": "2022-05-17T06:22:12.317707Z"
    }
   },
   "outputs": [
    {
     "name": "stderr",
     "output_type": "stream",
     "text": [
      "2022-05-17 06:22:12.399919: I tensorflow/compiler/mlir/mlir_graph_optimization_pass.cc:185] None of the MLIR Optimization Passes are enabled (registered 2)\n"
     ]
    },
    {
     "name": "stdout",
     "output_type": "stream",
     "text": [
      "Epoch 1/100\n",
      "15/15 - 2s - loss: 0.7078 - accuracy: 0.5915 - val_loss: 0.6671 - val_accuracy: 0.7533\n",
      "Epoch 2/100\n",
      "15/15 - 0s - loss: 0.6152 - accuracy: 0.6924 - val_loss: 0.4606 - val_accuracy: 0.7533\n",
      "Epoch 3/100\n",
      "15/15 - 0s - loss: 0.4799 - accuracy: 0.7252 - val_loss: 0.2906 - val_accuracy: 0.7533\n",
      "Epoch 4/100\n",
      "15/15 - 0s - loss: 0.3917 - accuracy: 0.7480 - val_loss: 0.2645 - val_accuracy: 0.7583\n",
      "Epoch 5/100\n",
      "15/15 - 0s - loss: 0.3376 - accuracy: 0.7706 - val_loss: 0.2652 - val_accuracy: 0.8069\n",
      "Epoch 6/100\n",
      "15/15 - 0s - loss: 0.3033 - accuracy: 0.8063 - val_loss: 0.2626 - val_accuracy: 0.9794\n",
      "Reached the accuracy required (ie) 90% {'loss': 0.3032922148704529, 'accuracy': 0.8063273429870605, 'val_loss': 0.26259562373161316, 'val_accuracy': 0.9793729186058044}\n"
     ]
    }
   ],
   "source": [
    "history=model.fit(X_train, y_train, batch_size = 256,verbose=2, \n",
    "                  epochs = 100,callbacks=[callback],validation_split=0.25)"
   ]
  },
  {
   "cell_type": "code",
   "execution_count": 44,
   "metadata": {
    "execution": {
     "iopub.execute_input": "2022-05-17T06:22:14.827042Z",
     "iopub.status.busy": "2022-05-17T06:22:14.826764Z",
     "iopub.status.idle": "2022-05-17T06:22:15.019359Z",
     "shell.execute_reply": "2022-05-17T06:22:15.018659Z",
     "shell.execute_reply.started": "2022-05-17T06:22:14.827010Z"
    }
   },
   "outputs": [
    {
     "data": {
      "image/png": "[encoded data removed]",
      "text/plain": [
       "<Figure size 432x288 with 1 Axes>"
      ]
     },
     "metadata": {
      "needs_background": "light"
     },
     "output_type": "display_data"
    }
   ],
   "source": [
    "# Performance and Metrics of Artifical Neural Network\n",
    "\n",
    "plot_metric(history, 'accuracy')"
   ]
  },
  {
   "cell_type": "code",
   "execution_count": 45,
   "metadata": {
    "execution": {
     "iopub.execute_input": "2022-05-17T06:22:15.021161Z",
     "iopub.status.busy": "2022-05-17T06:22:15.020357Z",
     "iopub.status.idle": "2022-05-17T06:22:15.267905Z",
     "shell.execute_reply": "2022-05-17T06:22:15.266957Z",
     "shell.execute_reply.started": "2022-05-17T06:22:15.021117Z"
    }
   },
   "outputs": [],
   "source": [
    "y_pred=model.predict(X_test)>0.5\n",
    "y_pred = y_pred.astype(\"int\")"
   ]
  },
  {
   "cell_type": "code",
   "execution_count": 46,
   "metadata": {
    "execution": {
     "iopub.execute_input": "2022-05-17T06:22:15.269084Z",
     "iopub.status.busy": "2022-05-17T06:22:15.268864Z",
     "iopub.status.idle": "2022-05-17T06:22:15.445456Z",
     "shell.execute_reply": "2022-05-17T06:22:15.444602Z",
     "shell.execute_reply.started": "2022-05-17T06:22:15.269057Z"
    },
    "scrolled": true
   },
   "outputs": [
    {
     "name": "stdout",
     "output_type": "stream",
     "text": [
      "_______________________________________________\n",
      "Model: ANN Model\n",
      "Accuracy Score: 0.9814356435643564\n",
      "Confusion Matrix:\n",
      " [[ 389   14]\n",
      " [  16 1197]]\n",
      "Classification Report:\n",
      "               precision    recall  f1-score   support\n",
      "\n",
      "           0       0.96      0.97      0.96       403\n",
      "           1       0.99      0.99      0.99      1213\n",
      "\n",
      "    accuracy                           0.98      1616\n",
      "   macro avg       0.97      0.98      0.98      1616\n",
      "weighted avg       0.98      0.98      0.98      1616\n",
      "\n"
     ]
    },
    {
     "data": {
      "image/png": "[encoded data removed]",
      "text/plain": [
       "<Figure size 432x288 with 2 Axes>"
      ]
     },
     "metadata": {
      "needs_background": "light"
     },
     "output_type": "display_data"
    },
    {
     "name": "stdout",
     "output_type": "stream",
     "text": [
      "_______________________________________________\n"
     ]
    }
   ],
   "source": [
    "print(\"_______________________________________________\")    \n",
    "print(\"Model: ANN Model\")\n",
    "print(\"Accuracy Score:\",accuracy_score(y_test,y_pred))\n",
    "cm = confusion_matrix(y_test,y_pred)\n",
    "print(\"Confusion Matrix:\\n\",cm)\n",
    "cmd = ConfusionMatrixDisplay(cm,display_labels=[\"white\",\"red\"])\n",
    "cmd.plot()\n",
    "print(\"Classification Report:\\n\",classification_report(y_test,y_pred))\n",
    "plt.show()\n",
    "print(\"_______________________________________________\")"
   ]
  },
  {
   "cell_type": "code",
   "execution_count": null,
   "metadata": {},
   "outputs": [],
   "source": []
  },
  {
   "cell_type": "markdown",
   "metadata": {},
   "source": [
    "Test commit"
   ]
  },
  {
   "cell_type": "code",
   "execution_count": 132,
   "metadata": {},
   "outputs": [
    {
     "data": {
      "text/plain": [
       "'/Users/raziekaveh'"
      ]
     },
     "execution_count": 132,
     "metadata": {},
     "output_type": "execute_result"
    }
   ],
   "source": [
    "pwd"
   ]
  },
  {
   "cell_type": "code",
   "execution_count": null,
   "metadata": {},
   "outputs": [],
   "source": []
  }
 ],
 "metadata": {
  "kernelspec": {
   "display_name": "Python 3 (ipykernel)",
   "language": "python",
   "name": "python3"
  },
  "language_info": {
   "codemirror_mode": {
    "name": "ipython",
    "version": 3
   },
   "file_extension": ".py",
   "mimetype": "text/x-python",
   "name": "python",
   "nbconvert_exporter": "python",
   "pygments_lexer": "ipython3",
   "version": "3.9.12"
  }
 },
 "nbformat": 4,
 "nbformat_minor": 4
}
